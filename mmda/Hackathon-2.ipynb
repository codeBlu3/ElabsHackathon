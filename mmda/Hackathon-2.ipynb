{
 "cells": [
  {
   "cell_type": "markdown",
   "metadata": {},
   "source": [
    "# Hackathon notebook"
   ]
  },
  {
   "cell_type": "markdown",
   "metadata": {},
   "source": [
    "## Importing Libraries and the dataset"
   ]
  },
  {
   "cell_type": "code",
   "execution_count": 1,
   "metadata": {},
   "outputs": [],
   "source": [
    "import numpy as np \n",
    "import pandas as pd"
   ]
  },
  {
   "cell_type": "code",
   "execution_count": 4,
   "metadata": {
    "collapsed": true
   },
   "outputs": [
    {
     "data": {
      "text/html": [
       "<div>\n",
       "<style scoped>\n",
       "    .dataframe tbody tr th:only-of-type {\n",
       "        vertical-align: middle;\n",
       "    }\n",
       "\n",
       "    .dataframe tbody tr th {\n",
       "        vertical-align: top;\n",
       "    }\n",
       "\n",
       "    .dataframe thead th {\n",
       "        text-align: right;\n",
       "    }\n",
       "</style>\n",
       "<table border=\"1\" class=\"dataframe\">\n",
       "  <thead>\n",
       "    <tr style=\"text-align: right;\">\n",
       "      <th></th>\n",
       "      <th>Date</th>\n",
       "      <th>Time</th>\n",
       "      <th>City</th>\n",
       "      <th>Location</th>\n",
       "      <th>Latitude</th>\n",
       "      <th>Longitude</th>\n",
       "      <th>Direction</th>\n",
       "      <th>Type</th>\n",
       "      <th>Lanes_Blocked</th>\n",
       "      <th>Involved</th>\n",
       "      <th>Tweet</th>\n",
       "      <th>Source</th>\n",
       "    </tr>\n",
       "  </thead>\n",
       "  <tbody>\n",
       "    <tr>\n",
       "      <th>13962</th>\n",
       "      <td>2019-12-20</td>\n",
       "      <td>8:03 AM</td>\n",
       "      <td>Quezon City</td>\n",
       "      <td>QUEZON AVE AGHAM TUNNEL</td>\n",
       "      <td>14.646323</td>\n",
       "      <td>121.040861</td>\n",
       "      <td>WB</td>\n",
       "      <td>VEHICULAR ACCIDENT</td>\n",
       "      <td>1.0</td>\n",
       "      <td>SUV, MC, VAN AND TAXI</td>\n",
       "      <td>MMDA ALERT: Vehicular accident at Quezon Ave A...</td>\n",
       "      <td>https://twitter.com/mmda/status/12078210882493...</td>\n",
       "    </tr>\n",
       "    <tr>\n",
       "      <th>13963</th>\n",
       "      <td>2019-12-20</td>\n",
       "      <td>8:50 AM</td>\n",
       "      <td>Pasay City</td>\n",
       "      <td>ROXAS BUENDIA</td>\n",
       "      <td>14.552294</td>\n",
       "      <td>120.989491</td>\n",
       "      <td>NB</td>\n",
       "      <td>VEHICULAR ACCIDENT</td>\n",
       "      <td>1.0</td>\n",
       "      <td>ARMORED VEHICLE AND MC</td>\n",
       "      <td>MMDA ALERT: Vehicular accident at Roxas Buendi...</td>\n",
       "      <td>https://twitter.com/mmda/status/12078292444300...</td>\n",
       "    </tr>\n",
       "    <tr>\n",
       "      <th>13964</th>\n",
       "      <td>2019-12-20</td>\n",
       "      <td>9:30 AM</td>\n",
       "      <td>Manila</td>\n",
       "      <td>P BURGOS MA OROSA</td>\n",
       "      <td>14.585217</td>\n",
       "      <td>120.979377</td>\n",
       "      <td>EB</td>\n",
       "      <td>VEHICULAR ACCIDENT</td>\n",
       "      <td>1.0</td>\n",
       "      <td>PUJ AND MC</td>\n",
       "      <td>MMDA ALERT: Vehicular accident at P. Burgos Ma...</td>\n",
       "      <td>https://twitter.com/mmda/status/12078389806050...</td>\n",
       "    </tr>\n",
       "    <tr>\n",
       "      <th>13965</th>\n",
       "      <td>2019-12-20</td>\n",
       "      <td>10:11 AM</td>\n",
       "      <td>Makati City</td>\n",
       "      <td>C5 KALAYAAN ELEVATED UTS</td>\n",
       "      <td>14.556079</td>\n",
       "      <td>121.062936</td>\n",
       "      <td>SB</td>\n",
       "      <td>VEHICULAR ACCIDENT</td>\n",
       "      <td>1.0</td>\n",
       "      <td>FORD RANGER AND MC</td>\n",
       "      <td>MMDA ALERT: Vehicular accident at C5 elevated ...</td>\n",
       "      <td>https://twitter.com/mmda/status/12078525791509...</td>\n",
       "    </tr>\n",
       "    <tr>\n",
       "      <th>13966</th>\n",
       "      <td>2019-12-20</td>\n",
       "      <td>10:54 AM</td>\n",
       "      <td>Quezon City</td>\n",
       "      <td>EDSA ROCHESTER</td>\n",
       "      <td>14.597580</td>\n",
       "      <td>121.059718</td>\n",
       "      <td>SB</td>\n",
       "      <td>VEHICULAR ACCIDENT</td>\n",
       "      <td>1.0</td>\n",
       "      <td>2 CARS</td>\n",
       "      <td>MMDA ALERT: Vehicular accident at EDSA Rochest...</td>\n",
       "      <td>https://twitter.com/mmda/status/12078605163301...</td>\n",
       "    </tr>\n",
       "  </tbody>\n",
       "</table>\n",
       "</div>"
      ],
      "text/plain": [
       "             Date      Time         City                  Location   Latitude  \\\n",
       "13962  2019-12-20   8:03 AM  Quezon City   QUEZON AVE AGHAM TUNNEL  14.646323   \n",
       "13963  2019-12-20   8:50 AM   Pasay City             ROXAS BUENDIA  14.552294   \n",
       "13964  2019-12-20   9:30 AM       Manila         P BURGOS MA OROSA  14.585217   \n",
       "13965  2019-12-20  10:11 AM  Makati City  C5 KALAYAAN ELEVATED UTS  14.556079   \n",
       "13966  2019-12-20  10:54 AM  Quezon City            EDSA ROCHESTER  14.597580   \n",
       "\n",
       "        Longitude Direction                Type  Lanes_Blocked  \\\n",
       "13962  121.040861        WB  VEHICULAR ACCIDENT            1.0   \n",
       "13963  120.989491        NB  VEHICULAR ACCIDENT            1.0   \n",
       "13964  120.979377        EB  VEHICULAR ACCIDENT            1.0   \n",
       "13965  121.062936        SB  VEHICULAR ACCIDENT            1.0   \n",
       "13966  121.059718        SB  VEHICULAR ACCIDENT            1.0   \n",
       "\n",
       "                      Involved  \\\n",
       "13962   SUV, MC, VAN AND TAXI    \n",
       "13963  ARMORED VEHICLE AND MC    \n",
       "13964              PUJ AND MC    \n",
       "13965      FORD RANGER AND MC    \n",
       "13966                  2 CARS    \n",
       "\n",
       "                                                   Tweet  \\\n",
       "13962  MMDA ALERT: Vehicular accident at Quezon Ave A...   \n",
       "13963  MMDA ALERT: Vehicular accident at Roxas Buendi...   \n",
       "13964  MMDA ALERT: Vehicular accident at P. Burgos Ma...   \n",
       "13965  MMDA ALERT: Vehicular accident at C5 elevated ...   \n",
       "13966  MMDA ALERT: Vehicular accident at EDSA Rochest...   \n",
       "\n",
       "                                                  Source  \n",
       "13962  https://twitter.com/mmda/status/12078210882493...  \n",
       "13963  https://twitter.com/mmda/status/12078292444300...  \n",
       "13964  https://twitter.com/mmda/status/12078389806050...  \n",
       "13965  https://twitter.com/mmda/status/12078525791509...  \n",
       "13966  https://twitter.com/mmda/status/12078605163301...  "
      ]
     },
     "execution_count": 4,
     "metadata": {},
     "output_type": "execute_result"
    }
   ],
   "source": [
    "df = pd.read_csv(\"hackathon data/data_mmda_traffic_spatial.csv\")\n",
    "df.tail()"
   ]
  },
  {
   "cell_type": "code",
   "execution_count": 20,
   "metadata": {},
   "outputs": [
    {
     "data": {
      "text/plain": [
       "(13967, 12)"
      ]
     },
     "execution_count": 20,
     "metadata": {},
     "output_type": "execute_result"
    }
   ],
   "source": [
    "df.shape"
   ]
  },
  {
   "cell_type": "code",
   "execution_count": 19,
   "metadata": {
    "scrolled": true
   },
   "outputs": [
    {
     "data": {
      "text/plain": [
       "Date               0\n",
       "Time             115\n",
       "City              91\n",
       "Location           4\n",
       "Latitude           0\n",
       "Longitude          0\n",
       "Direction        701\n",
       "Type              36\n",
       "Lanes_Blocked    592\n",
       "Involved         370\n",
       "Tweet              0\n",
       "Source             0\n",
       "dtype: int64"
      ]
     },
     "execution_count": 19,
     "metadata": {},
     "output_type": "execute_result"
    }
   ],
   "source": [
    "#checking the number of null values per column\n",
    "df.isnull().sum()"
   ]
  },
  {
   "cell_type": "markdown",
   "metadata": {},
   "source": [
    "## Preliminary dataset exploration and question asking"
   ]
  },
  {
   "cell_type": "markdown",
   "metadata": {},
   "source": [
    "### How many incidents were reported by the MMDA from August 20, 2018 to December 20, 2019?"
   ]
  },
  {
   "cell_type": "code",
   "execution_count": 14,
   "metadata": {},
   "outputs": [
    {
     "data": {
      "text/plain": [
       "13967"
      ]
     },
     "execution_count": 14,
     "metadata": {},
     "output_type": "execute_result"
    }
   ],
   "source": [
    "# How many incidents were reported by the MMDA from August 20, 2018 to December 20, 2019?\n",
    "len(df)"
   ]
  },
  {
   "cell_type": "markdown",
   "metadata": {},
   "source": [
    "A total of 13967 incidents were reported from MMDA's twitter account from August 20, 2018 to December 20, 2019"
   ]
  },
  {
   "cell_type": "markdown",
   "metadata": {},
   "source": [
    "### How many incidents happened per city?"
   ]
  },
  {
   "cell_type": "code",
   "execution_count": 6,
   "metadata": {},
   "outputs": [
    {
     "data": {
      "text/plain": [
       "Quezon City      7104\n",
       "Mandaluyong      2462\n",
       "Makati City      1944\n",
       "Pasig City       1387\n",
       "Pasay City        372\n",
       "Manila            242\n",
       "Marikina          101\n",
       "ParaÃ±aque         96\n",
       "San Juan           94\n",
       "Kalookan City      49\n",
       "Taguig             16\n",
       "Valenzuela          5\n",
       "Navotas             3\n",
       "Malabon             1\n",
       "Name: City, dtype: int64"
      ]
     },
     "execution_count": 6,
     "metadata": {},
     "output_type": "execute_result"
    }
   ],
   "source": [
    "#How many incidents happened per city?\n",
    "df[\"City\"].value_counts()"
   ]
  },
  {
   "cell_type": "markdown",
   "metadata": {},
   "source": [
    "###### Follow up questions:\n",
    "\n",
    "A majority of the incidents happened in QC, Manda, Makati and Pasig. Can we do a per city analysis of the incident reports to see if we can find insights that will help the MMDA with incident management per city?\n",
    "\n",
    "##### Other questions to answer:\n",
    "1. Why did most of the incidents occur in QC?\n",
    "2. Why was the concentration of the incidents around these 4 cities?"
   ]
  },
  {
   "cell_type": "markdown",
   "metadata": {},
   "source": [
    "### How many incidents happened when classified under direction?"
   ]
  },
  {
   "cell_type": "code",
   "execution_count": 7,
   "metadata": {},
   "outputs": [
    {
     "data": {
      "text/plain": [
       "NB        5308\n",
       "SB        4862\n",
       "EB        1649\n",
       "WB        1441\n",
       "PAX          2\n",
       "DAR          1\n",
       "CLARA        1\n",
       "CLOSED       1\n",
       "EB.          1\n",
       "Name: Direction, dtype: int64"
      ]
     },
     "execution_count": 7,
     "metadata": {},
     "output_type": "execute_result"
    }
   ],
   "source": [
    "#How many incidents happened when classified under direction?\n",
    "df[\"Direction\"].value_counts()"
   ]
  },
  {
   "cell_type": "markdown",
   "metadata": {},
   "source": [
    "###### Follow up questions:\n",
    "\n",
    "A majority of the incidents that happened were Northbound and Southbound. Can we do an in depth analysis on the incidents based on the incident directions?\n",
    "\n",
    "##### Other questions to answer:\n",
    "1. Why were most of the incidents northbound? (Is this related to QC being the city with the highest incident rates)\n",
    "2. Why were there noticeably more northbound and southbound incidents than east and westbound incidents?\n",
    "3. Meaning of other direction classfications"
   ]
  },
  {
   "cell_type": "code",
   "execution_count": 11,
   "metadata": {
    "collapsed": true
   },
   "outputs": [
    {
     "ename": "KeyError",
     "evalue": "False",
     "output_type": "error",
     "traceback": [
      "\u001b[1;31m---------------------------------------------------------------------------\u001b[0m",
      "\u001b[1;31mKeyError\u001b[0m                                  Traceback (most recent call last)",
      "\u001b[1;32m~\\Anaconda3\\lib\\site-packages\\pandas\\core\\indexes\\base.py\u001b[0m in \u001b[0;36mget_loc\u001b[1;34m(self, key, method, tolerance)\u001b[0m\n\u001b[0;32m   3077\u001b[0m             \u001b[1;32mtry\u001b[0m\u001b[1;33m:\u001b[0m\u001b[1;33m\u001b[0m\u001b[1;33m\u001b[0m\u001b[0m\n\u001b[1;32m-> 3078\u001b[1;33m                 \u001b[1;32mreturn\u001b[0m \u001b[0mself\u001b[0m\u001b[1;33m.\u001b[0m\u001b[0m_engine\u001b[0m\u001b[1;33m.\u001b[0m\u001b[0mget_loc\u001b[0m\u001b[1;33m(\u001b[0m\u001b[0mkey\u001b[0m\u001b[1;33m)\u001b[0m\u001b[1;33m\u001b[0m\u001b[1;33m\u001b[0m\u001b[0m\n\u001b[0m\u001b[0;32m   3079\u001b[0m             \u001b[1;32mexcept\u001b[0m \u001b[0mKeyError\u001b[0m\u001b[1;33m:\u001b[0m\u001b[1;33m\u001b[0m\u001b[1;33m\u001b[0m\u001b[0m\n",
      "\u001b[1;32mpandas\\_libs\\index.pyx\u001b[0m in \u001b[0;36mpandas._libs.index.IndexEngine.get_loc\u001b[1;34m()\u001b[0m\n",
      "\u001b[1;32mpandas\\_libs\\index.pyx\u001b[0m in \u001b[0;36mpandas._libs.index.IndexEngine.get_loc\u001b[1;34m()\u001b[0m\n",
      "\u001b[1;32mpandas\\_libs\\hashtable_class_helper.pxi\u001b[0m in \u001b[0;36mpandas._libs.hashtable.PyObjectHashTable.get_item\u001b[1;34m()\u001b[0m\n",
      "\u001b[1;32mpandas\\_libs\\hashtable_class_helper.pxi\u001b[0m in \u001b[0;36mpandas._libs.hashtable.PyObjectHashTable.get_item\u001b[1;34m()\u001b[0m\n",
      "\u001b[1;31mKeyError\u001b[0m: False",
      "\nDuring handling of the above exception, another exception occurred:\n",
      "\u001b[1;31mKeyError\u001b[0m                                  Traceback (most recent call last)",
      "\u001b[1;32m<ipython-input-11-2dd639a6370e>\u001b[0m in \u001b[0;36m<module>\u001b[1;34m\u001b[0m\n\u001b[0;32m      1\u001b[0m \u001b[1;31m#Find the rows with PAX, DAR, CLARA, CLOSED and EB to know the meaning of the terms\u001b[0m\u001b[1;33m\u001b[0m\u001b[1;33m\u001b[0m\u001b[1;33m\u001b[0m\u001b[0m\n\u001b[1;32m----> 2\u001b[1;33m \u001b[0mdf\u001b[0m\u001b[1;33m(\u001b[0m\u001b[0mdf\u001b[0m\u001b[1;33m[\u001b[0m\u001b[1;34m\"Direction\"\u001b[0m \u001b[1;33m==\u001b[0m \u001b[1;34m\"PAX\"\u001b[0m\u001b[1;33m]\u001b[0m\u001b[1;33m)\u001b[0m\u001b[1;33m\u001b[0m\u001b[1;33m\u001b[0m\u001b[0m\n\u001b[0m",
      "\u001b[1;32m~\\Anaconda3\\lib\\site-packages\\pandas\\core\\frame.py\u001b[0m in \u001b[0;36m__getitem__\u001b[1;34m(self, key)\u001b[0m\n\u001b[0;32m   2686\u001b[0m             \u001b[1;32mreturn\u001b[0m \u001b[0mself\u001b[0m\u001b[1;33m.\u001b[0m\u001b[0m_getitem_multilevel\u001b[0m\u001b[1;33m(\u001b[0m\u001b[0mkey\u001b[0m\u001b[1;33m)\u001b[0m\u001b[1;33m\u001b[0m\u001b[1;33m\u001b[0m\u001b[0m\n\u001b[0;32m   2687\u001b[0m         \u001b[1;32melse\u001b[0m\u001b[1;33m:\u001b[0m\u001b[1;33m\u001b[0m\u001b[1;33m\u001b[0m\u001b[0m\n\u001b[1;32m-> 2688\u001b[1;33m             \u001b[1;32mreturn\u001b[0m \u001b[0mself\u001b[0m\u001b[1;33m.\u001b[0m\u001b[0m_getitem_column\u001b[0m\u001b[1;33m(\u001b[0m\u001b[0mkey\u001b[0m\u001b[1;33m)\u001b[0m\u001b[1;33m\u001b[0m\u001b[1;33m\u001b[0m\u001b[0m\n\u001b[0m\u001b[0;32m   2689\u001b[0m \u001b[1;33m\u001b[0m\u001b[0m\n\u001b[0;32m   2690\u001b[0m     \u001b[1;32mdef\u001b[0m \u001b[0m_getitem_column\u001b[0m\u001b[1;33m(\u001b[0m\u001b[0mself\u001b[0m\u001b[1;33m,\u001b[0m \u001b[0mkey\u001b[0m\u001b[1;33m)\u001b[0m\u001b[1;33m:\u001b[0m\u001b[1;33m\u001b[0m\u001b[1;33m\u001b[0m\u001b[0m\n",
      "\u001b[1;32m~\\Anaconda3\\lib\\site-packages\\pandas\\core\\frame.py\u001b[0m in \u001b[0;36m_getitem_column\u001b[1;34m(self, key)\u001b[0m\n\u001b[0;32m   2693\u001b[0m         \u001b[1;31m# get column\u001b[0m\u001b[1;33m\u001b[0m\u001b[1;33m\u001b[0m\u001b[1;33m\u001b[0m\u001b[0m\n\u001b[0;32m   2694\u001b[0m         \u001b[1;32mif\u001b[0m \u001b[0mself\u001b[0m\u001b[1;33m.\u001b[0m\u001b[0mcolumns\u001b[0m\u001b[1;33m.\u001b[0m\u001b[0mis_unique\u001b[0m\u001b[1;33m:\u001b[0m\u001b[1;33m\u001b[0m\u001b[1;33m\u001b[0m\u001b[0m\n\u001b[1;32m-> 2695\u001b[1;33m             \u001b[1;32mreturn\u001b[0m \u001b[0mself\u001b[0m\u001b[1;33m.\u001b[0m\u001b[0m_get_item_cache\u001b[0m\u001b[1;33m(\u001b[0m\u001b[0mkey\u001b[0m\u001b[1;33m)\u001b[0m\u001b[1;33m\u001b[0m\u001b[1;33m\u001b[0m\u001b[0m\n\u001b[0m\u001b[0;32m   2696\u001b[0m \u001b[1;33m\u001b[0m\u001b[0m\n\u001b[0;32m   2697\u001b[0m         \u001b[1;31m# duplicate columns & possible reduce dimensionality\u001b[0m\u001b[1;33m\u001b[0m\u001b[1;33m\u001b[0m\u001b[1;33m\u001b[0m\u001b[0m\n",
      "\u001b[1;32m~\\Anaconda3\\lib\\site-packages\\pandas\\core\\generic.py\u001b[0m in \u001b[0;36m_get_item_cache\u001b[1;34m(self, item)\u001b[0m\n\u001b[0;32m   2487\u001b[0m         \u001b[0mres\u001b[0m \u001b[1;33m=\u001b[0m \u001b[0mcache\u001b[0m\u001b[1;33m.\u001b[0m\u001b[0mget\u001b[0m\u001b[1;33m(\u001b[0m\u001b[0mitem\u001b[0m\u001b[1;33m)\u001b[0m\u001b[1;33m\u001b[0m\u001b[1;33m\u001b[0m\u001b[0m\n\u001b[0;32m   2488\u001b[0m         \u001b[1;32mif\u001b[0m \u001b[0mres\u001b[0m \u001b[1;32mis\u001b[0m \u001b[1;32mNone\u001b[0m\u001b[1;33m:\u001b[0m\u001b[1;33m\u001b[0m\u001b[1;33m\u001b[0m\u001b[0m\n\u001b[1;32m-> 2489\u001b[1;33m             \u001b[0mvalues\u001b[0m \u001b[1;33m=\u001b[0m \u001b[0mself\u001b[0m\u001b[1;33m.\u001b[0m\u001b[0m_data\u001b[0m\u001b[1;33m.\u001b[0m\u001b[0mget\u001b[0m\u001b[1;33m(\u001b[0m\u001b[0mitem\u001b[0m\u001b[1;33m)\u001b[0m\u001b[1;33m\u001b[0m\u001b[1;33m\u001b[0m\u001b[0m\n\u001b[0m\u001b[0;32m   2490\u001b[0m             \u001b[0mres\u001b[0m \u001b[1;33m=\u001b[0m \u001b[0mself\u001b[0m\u001b[1;33m.\u001b[0m\u001b[0m_box_item_values\u001b[0m\u001b[1;33m(\u001b[0m\u001b[0mitem\u001b[0m\u001b[1;33m,\u001b[0m \u001b[0mvalues\u001b[0m\u001b[1;33m)\u001b[0m\u001b[1;33m\u001b[0m\u001b[1;33m\u001b[0m\u001b[0m\n\u001b[0;32m   2491\u001b[0m             \u001b[0mcache\u001b[0m\u001b[1;33m[\u001b[0m\u001b[0mitem\u001b[0m\u001b[1;33m]\u001b[0m \u001b[1;33m=\u001b[0m \u001b[0mres\u001b[0m\u001b[1;33m\u001b[0m\u001b[1;33m\u001b[0m\u001b[0m\n",
      "\u001b[1;32m~\\Anaconda3\\lib\\site-packages\\pandas\\core\\internals.py\u001b[0m in \u001b[0;36mget\u001b[1;34m(self, item, fastpath)\u001b[0m\n\u001b[0;32m   4113\u001b[0m \u001b[1;33m\u001b[0m\u001b[0m\n\u001b[0;32m   4114\u001b[0m             \u001b[1;32mif\u001b[0m \u001b[1;32mnot\u001b[0m \u001b[0misna\u001b[0m\u001b[1;33m(\u001b[0m\u001b[0mitem\u001b[0m\u001b[1;33m)\u001b[0m\u001b[1;33m:\u001b[0m\u001b[1;33m\u001b[0m\u001b[1;33m\u001b[0m\u001b[0m\n\u001b[1;32m-> 4115\u001b[1;33m                 \u001b[0mloc\u001b[0m \u001b[1;33m=\u001b[0m \u001b[0mself\u001b[0m\u001b[1;33m.\u001b[0m\u001b[0mitems\u001b[0m\u001b[1;33m.\u001b[0m\u001b[0mget_loc\u001b[0m\u001b[1;33m(\u001b[0m\u001b[0mitem\u001b[0m\u001b[1;33m)\u001b[0m\u001b[1;33m\u001b[0m\u001b[1;33m\u001b[0m\u001b[0m\n\u001b[0m\u001b[0;32m   4116\u001b[0m             \u001b[1;32melse\u001b[0m\u001b[1;33m:\u001b[0m\u001b[1;33m\u001b[0m\u001b[1;33m\u001b[0m\u001b[0m\n\u001b[0;32m   4117\u001b[0m                 \u001b[0mindexer\u001b[0m \u001b[1;33m=\u001b[0m \u001b[0mnp\u001b[0m\u001b[1;33m.\u001b[0m\u001b[0marange\u001b[0m\u001b[1;33m(\u001b[0m\u001b[0mlen\u001b[0m\u001b[1;33m(\u001b[0m\u001b[0mself\u001b[0m\u001b[1;33m.\u001b[0m\u001b[0mitems\u001b[0m\u001b[1;33m)\u001b[0m\u001b[1;33m)\u001b[0m\u001b[1;33m[\u001b[0m\u001b[0misna\u001b[0m\u001b[1;33m(\u001b[0m\u001b[0mself\u001b[0m\u001b[1;33m.\u001b[0m\u001b[0mitems\u001b[0m\u001b[1;33m)\u001b[0m\u001b[1;33m]\u001b[0m\u001b[1;33m\u001b[0m\u001b[1;33m\u001b[0m\u001b[0m\n",
      "\u001b[1;32m~\\Anaconda3\\lib\\site-packages\\pandas\\core\\indexes\\base.py\u001b[0m in \u001b[0;36mget_loc\u001b[1;34m(self, key, method, tolerance)\u001b[0m\n\u001b[0;32m   3078\u001b[0m                 \u001b[1;32mreturn\u001b[0m \u001b[0mself\u001b[0m\u001b[1;33m.\u001b[0m\u001b[0m_engine\u001b[0m\u001b[1;33m.\u001b[0m\u001b[0mget_loc\u001b[0m\u001b[1;33m(\u001b[0m\u001b[0mkey\u001b[0m\u001b[1;33m)\u001b[0m\u001b[1;33m\u001b[0m\u001b[1;33m\u001b[0m\u001b[0m\n\u001b[0;32m   3079\u001b[0m             \u001b[1;32mexcept\u001b[0m \u001b[0mKeyError\u001b[0m\u001b[1;33m:\u001b[0m\u001b[1;33m\u001b[0m\u001b[1;33m\u001b[0m\u001b[0m\n\u001b[1;32m-> 3080\u001b[1;33m                 \u001b[1;32mreturn\u001b[0m \u001b[0mself\u001b[0m\u001b[1;33m.\u001b[0m\u001b[0m_engine\u001b[0m\u001b[1;33m.\u001b[0m\u001b[0mget_loc\u001b[0m\u001b[1;33m(\u001b[0m\u001b[0mself\u001b[0m\u001b[1;33m.\u001b[0m\u001b[0m_maybe_cast_indexer\u001b[0m\u001b[1;33m(\u001b[0m\u001b[0mkey\u001b[0m\u001b[1;33m)\u001b[0m\u001b[1;33m)\u001b[0m\u001b[1;33m\u001b[0m\u001b[1;33m\u001b[0m\u001b[0m\n\u001b[0m\u001b[0;32m   3081\u001b[0m \u001b[1;33m\u001b[0m\u001b[0m\n\u001b[0;32m   3082\u001b[0m         \u001b[0mindexer\u001b[0m \u001b[1;33m=\u001b[0m \u001b[0mself\u001b[0m\u001b[1;33m.\u001b[0m\u001b[0mget_indexer\u001b[0m\u001b[1;33m(\u001b[0m\u001b[1;33m[\u001b[0m\u001b[0mkey\u001b[0m\u001b[1;33m]\u001b[0m\u001b[1;33m,\u001b[0m \u001b[0mmethod\u001b[0m\u001b[1;33m=\u001b[0m\u001b[0mmethod\u001b[0m\u001b[1;33m,\u001b[0m \u001b[0mtolerance\u001b[0m\u001b[1;33m=\u001b[0m\u001b[0mtolerance\u001b[0m\u001b[1;33m)\u001b[0m\u001b[1;33m\u001b[0m\u001b[1;33m\u001b[0m\u001b[0m\n",
      "\u001b[1;32mpandas\\_libs\\index.pyx\u001b[0m in \u001b[0;36mpandas._libs.index.IndexEngine.get_loc\u001b[1;34m()\u001b[0m\n",
      "\u001b[1;32mpandas\\_libs\\index.pyx\u001b[0m in \u001b[0;36mpandas._libs.index.IndexEngine.get_loc\u001b[1;34m()\u001b[0m\n",
      "\u001b[1;32mpandas\\_libs\\hashtable_class_helper.pxi\u001b[0m in \u001b[0;36mpandas._libs.hashtable.PyObjectHashTable.get_item\u001b[1;34m()\u001b[0m\n",
      "\u001b[1;32mpandas\\_libs\\hashtable_class_helper.pxi\u001b[0m in \u001b[0;36mpandas._libs.hashtable.PyObjectHashTable.get_item\u001b[1;34m()\u001b[0m\n",
      "\u001b[1;31mKeyError\u001b[0m: False"
     ]
    }
   ],
   "source": [
    "#Find the rows with PAX, DAR, CLARA, CLOSED and EB to know the meaning of the terms\n",
    "df(df[\"Direction\"] == \"PAX\")"
   ]
  },
  {
   "cell_type": "markdown",
   "metadata": {},
   "source": [
    "### How many incidents happened when classified in terms of type and vehicles involved?"
   ]
  },
  {
   "cell_type": "code",
   "execution_count": 12,
   "metadata": {
    "collapsed": true
   },
   "outputs": [
    {
     "data": {
      "text/plain": [
       "VEHICULAR ACCIDENT                                                                                                                           9498\n",
       "STALLED BUS DUE TO MECHANICAL PROBLEM                                                                                                         740\n",
       "MULTIPLE COLLISION                                                                                                                            541\n",
       "STALLED CAR DUE TO MECHANICAL PROBLEM                                                                                                         461\n",
       "STALLED TRUCK DUE TO MECHANICAL PROBLEM                                                                                                       276\n",
       "SELF ACCIDENT                                                                                                                                 200\n",
       "STALLED VAN DUE TO MECHANICAL PROBLEM                                                                                                         161\n",
       "STALLED SUV DUE TO MECHANICAL PROBLEM                                                                                                         145\n",
       "STALLED TAXI DUE TO MECHANICAL PROBLEM                                                                                                        120\n",
       "STALLED AUV DUE TO MECHANICAL PROBLEM                                                                                                         111\n",
       "ONGOING DPWH ROAD PATCHING                                                                                                                    100\n",
       "STALLED TRAILER TRUCK DUE TO MECHANICAL PROBLEM                                                                                                96\n",
       "RALLYIST                                                                                                                                       88\n",
       "STALLED CLOSED VAN DUE TO MECHANICAL PROBLEM                                                                                                   84\n",
       "STALLED DUMP TRUCK DUE TO MECHANICAL PROBLEM                                                                                                   83\n",
       "STALLED PUJ DUE TO MECHANICAL PROBLEM                                                                                                          74\n",
       "STALLED ELF TRUCK DUE TO MECHANICAL PROBLEM                                                                                                    60\n",
       "STALLED BUS DUE TO MECHANICAL TROUBLE                                                                                                          36\n",
       "STALLED 10 WHEELER TRUCK DUE TO MECHANICAL PROBLEM                                                                                             35\n",
       "STALLED L300 DUE TO MECHANICAL PROBLEM                                                                                                         35\n",
       "HIT AND RUN                                                                                                                                    32\n",
       "STALLED UV EXPRESS DUE TO MECHANICAL PROBLEM                                                                                                   28\n",
       "STALLED DELIVERY VAN DUE TO MECHANICAL PROBLEM                                                                                                 25\n",
       "STALLED CAR DUE TO MECHANICAL TROUBLE                                                                                                          23\n",
       "STALLED ARMORED VAN DUE TO MECHANICAL PROBLEM                                                                                                  21\n",
       "VEHICULAR FIRE                                                                                                                                 21\n",
       "STALLED WING VAN DUE TO MECHANICAL PROBLEM                                                                                                     21\n",
       "STALLED                                                                                                                                        19\n",
       "STALLED TANKER DUE TO MECHANICAL PROBLEM                                                                                                       18\n",
       "STALLED CAR DUE TO FLAT TIRE                                                                                                                   15\n",
       "                                                                                                                                             ... \n",
       "MMDA ALERT: DPWH Road Re-blocking at C5 Kalayaan SB as of 4:00 PM. 1 lane occupied  MMDA Assisted. #mmda… https://t.co/Y9KUotQ3Nx               1\n",
       "STALLED CAR DUE TO FLAT TIRE PROBLEM                                                                                                            1\n",
       "STALLED MINI BUS DUE TO MECHANICAL PROBLEM                                                                                                      1\n",
       "CLEANING OF DRAINAGE                                                                                                                            1\n",
       "STALLED ADVENTURE DUE TO MECHANICAL PROBLEM                                                                                                     1\n",
       "STALLED DUMPTRUCK  DUE TO MECHANICAL PROBLEM                                                                                                    1\n",
       "@KyleTerrenal MMDA ALERT: DPWH Road Re-blocking at C5 Kalayaan SB as of 4:00 PM. 1 lane occupied  MMDA Assisted.… https://t.co/mSjysho61D       1\n",
       "VEHICLE ON FIRE                                                                                                                                 1\n",
       "STALLED CONTAINER VAN DUE TO MECHANICAL PROBLEM                                                                                                 1\n",
       "OIL SPILL                                                                                                                                       1\n",
       "MMDA ALERT : Self accident at Commonwealth Diliman EB involving MC  as of 6:43 PM. 1 lane occupied. MMDA enforcer on site. ##mmda               1\n",
       "MMDA ALERT: Ongoing DPWH Road Re-blocking at EDSA Magallanes NB as of 6:37 AM. 1 lane occupied. MMDA on site. #mmda                             1\n",
       "STALLED VAN DUE TO ELECTRICAL PROBLEM                                                                                                           1\n",
       "STALLED DUE TO MECAHNICAL PROBLEM                                                                                                               1\n",
       "STALLED TRAILER TRUCK DUE MECHANICAL PROBLEM                                                                                                    1\n",
       "STALLED WINGED VAN DUE TO MECHANICAL TROUBLE                                                                                                    1\n",
       "ONGOING DPWH CONCRETE RE BLOCKING                                                                                                               1\n",
       "STALLED CLOSE VAN DUE TO FLAT TIRE                                                                                                              1\n",
       "STALLED DELIVERY VAN DUE TO MECHANICAL TROUBLE                                                                                                  1\n",
       "ONGOING CEMENT POURING                                                                                                                          1\n",
       "MMDA ALERT: Stalled Pick-up due to mechanical problem at EDSA Guadalupe NB as of 2:18 PM. 1 lane occupied. MMDA on site. #mmda                  1\n",
       "STALLED DUMP TRUCK DUE MECHANICAL PROBLEM                                                                                                       1\n",
       "STALLED UTILITY VAN DUE TO MECHANICAL PROBLEM                                                                                                   1\n",
       "MMDA ALERT : Vehicular accident at EDSA Estrella NB involving car and bus as of 5:10 PM. 1 lane occupied. MMDA enforcer on site. #mmda          1\n",
       "STALLED TRUCK DUE TO BATTERY DEFECT                                                                                                             1\n",
       "STALLED VAN DUE T MECHANICAL PROBLEM                                                                                                            1\n",
       "SHOOTING INCIDENT AND VEHICULAR ACCIDENT                                                                                                        1\n",
       "STALLED TRUCK DUE TO MECHANICAL DEFECT KAT                                                                                                      1\n",
       "STALLED CRANE DUE TO MECHANICAL TROUBLE                                                                                                         1\n",
       "STALLED CAR TO MECHANICAL PROBLEM                                                                                                               1\n",
       "Name: Type, Length: 419, dtype: int64"
      ]
     },
     "execution_count": 12,
     "metadata": {},
     "output_type": "execute_result"
    }
   ],
   "source": [
    "#No. of incidents in terms of type\n",
    "df[\"Type\"].value_counts()"
   ]
  },
  {
   "cell_type": "code",
   "execution_count": 17,
   "metadata": {
    "collapsed": true
   },
   "outputs": [
    {
     "data": {
      "text/plain": [
       "BUS                                843\n",
       "CAR                                554\n",
       "2 CARS                             434\n",
       "TRUCK                              339\n",
       "BUS AND CAR                        265\n",
       "2 BUSES                            257\n",
       "SUV AND CAR                        218\n",
       "CAR AND SUV                        216\n",
       "CAR AND MC                         201\n",
       "VAN                                201\n",
       "SUV                                176\n",
       "MC AND CAR                         162\n",
       "CAR AND BUS                        148\n",
       "TAXI                               140\n",
       "CAR AND VAN                        134\n",
       "CAR AND AUV                        133\n",
       "MC                                 133\n",
       "AUV                                132\n",
       "AUV AND CAR                        128\n",
       "TRAILER TRUCK                      117\n",
       "2 CARS                             113\n",
       "CAR AND TAXI                       110\n",
       "VAN AND CAR                        108\n",
       "CLOSED VAN                         102\n",
       "DUMP TRUCK                         100\n",
       "PUJ                                 92\n",
       "CAR AND TRUCK                       88\n",
       "2 SUV                               88\n",
       "SUV AND MC                          87\n",
       "2 MC                                87\n",
       "                                  ... \n",
       "UV EXPRESS AND DUMP TRUCK            1\n",
       "CLOSED VAN AND TRAILER TRUCK         1\n",
       "CLOSED VAN AND ELF TRUCK             1\n",
       "TAXI AND MIXER                       1\n",
       "10 WHEELER TRUCK AND TAXI            1\n",
       "VAN AND 2 SUV                        1\n",
       "2 BUSES AND SUV                      1\n",
       "CAR AND MIXER TRUCK                  1\n",
       "2 TRUCKS AND CAR                     1\n",
       "CLOSED VAN AND DELIVERY VAN          1\n",
       "2 CARS AND PUJ                       1\n",
       "STAREX                               1\n",
       "2 SUV AND PICK UP TRUCK              1\n",
       "TAXI AND CANTER                      1\n",
       "SUV AND PEDESTRIAN                   1\n",
       "SUV, MC AND TRUCK                    1\n",
       "MC AND 2 BUSES                       1\n",
       "TRUCK AND TANKER                     1\n",
       "MULTICAB AND VAN                     1\n",
       "PEDESTRIAN AND VAN                   1\n",
       "AUV AND BIKE                         1\n",
       "BUSCAR AND MC                        1\n",
       "TRAFFIC CONSTABLE AND PUJ            1\n",
       "2 MC'S AND 2 CARS                    1\n",
       "MOTORCYCLE, UV EXPRESS AND CAR       1\n",
       "FIRETRUCK                            1\n",
       "SUV A ND CAR                         1\n",
       "SUVCAR AND L300                      1\n",
       "CAR AND ELF                          1\n",
       "MOTORCYCLES AND TAXI                 1\n",
       "Name: Involved, Length: 1783, dtype: int64"
      ]
     },
     "execution_count": 17,
     "metadata": {},
     "output_type": "execute_result"
    }
   ],
   "source": [
    "# No. of incidents in terms of vehicles involved\n",
    "df[\"Involved\"].value_counts()"
   ]
  },
  {
   "cell_type": "markdown",
   "metadata": {},
   "source": [
    "###### Follow up questions:\n",
    "A majority of the incidents that happened are classified as 'vehicular accidents'. In this dataset, vehicular accidents are generally one on one collisions between a vehicle and another vehicle or a civilian. Maybe we can explore how many types of public vehicles were involved in an incident to see if the MMDA can have tighter regulations around said vehicles? (PUJ, Buses, UV Express)\n",
    "\n",
    "##### Other questions to answer:\n",
    "1. How many of the incidents involved buses\n",
    "2. How many of the incidents involved PUJ (public utility jeeps)\n",
    "3. How many of the incidents involved Jeeps\n",
    "4. How many of the incidents involved MCS (motorcycles)\n",
    "5. How many of the incidents ivolved armored trucks\n",
    "6. How many of the incidents involved civilian 'cars'"
   ]
  },
  {
   "cell_type": "markdown",
   "metadata": {},
   "source": [
    "### What were the no. of incidents in terms of lanes blocked?"
   ]
  },
  {
   "cell_type": "code",
   "execution_count": 15,
   "metadata": {},
   "outputs": [
    {
     "data": {
      "text/plain": [
       "1.0    11996\n",
       "2.0     1371\n",
       "3.0        6\n",
       "6.0        1\n",
       "4.0        1\n",
       "Name: Lanes_Blocked, dtype: int64"
      ]
     },
     "execution_count": 15,
     "metadata": {},
     "output_type": "execute_result"
    }
   ],
   "source": [
    "#No. of incidents in terms of lanes blocked\n",
    "df[\"Lanes_Blocked\"].value_counts()"
   ]
  },
  {
   "cell_type": "markdown",
   "metadata": {},
   "source": [
    "###### Follow up questions:\n",
    "It's good that for the majority of the incidents, only 1 lane was blocked. But for those incidents with 2 or more lanes blocked, did they have anything in common? And if so, what can be done for those numbers to be further reduced?"
   ]
  },
  {
   "cell_type": "markdown",
   "metadata": {},
   "source": [
    "### Other suggestions, feel free to disregard and/or add stuff:\n",
    "\n",
    "#### 1. Find out the incidence frequency at certain time periods\n",
    "       - that is, did more incidents occur during early mornings (12-4 am) , evenings, rush hour (5pm -8 pm )??\n",
    "       - after finding out if there are certain time periods with a greater incident occurence rate, maybe we can layout suggestions on what the MMDA can do about it? \n",
    "       \" we recommend the MMDA to send out more patrols at this city during this specific time period etc etc\"\n",
    "       \n",
    "#### 2. Let's make a heatmap of the incidence occurence rate for audience engagement "
   ]
  },
  {
   "cell_type": "code",
   "execution_count": null,
   "metadata": {},
   "outputs": [],
   "source": []
  },
  {
   "cell_type": "code",
   "execution_count": null,
   "metadata": {},
   "outputs": [],
   "source": []
  }
 ],
 "metadata": {
  "kernelspec": {
   "display_name": "Python 3",
   "language": "python",
   "name": "python3"
  },
  "language_info": {
   "codemirror_mode": {
    "name": "ipython",
    "version": 3
   },
   "file_extension": ".py",
   "mimetype": "text/x-python",
   "name": "python",
   "nbconvert_exporter": "python",
   "pygments_lexer": "ipython3",
   "version": "3.8.2"
  },
  "toc": {
   "base_numbering": 1,
   "nav_menu": {},
   "number_sections": true,
   "sideBar": true,
   "skip_h1_title": false,
   "title_cell": "Table of Contents",
   "title_sidebar": "Contents",
   "toc_cell": false,
   "toc_position": {},
   "toc_section_display": true,
   "toc_window_display": true
  }
 },
 "nbformat": 4,
 "nbformat_minor": 2
}
