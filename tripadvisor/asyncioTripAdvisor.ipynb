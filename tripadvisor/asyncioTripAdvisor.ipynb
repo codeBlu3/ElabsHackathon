{
 "cells": [
  {
   "cell_type": "code",
   "execution_count": 1,
   "metadata": {
    "cell_id": "372d4449-af15-4b6b-bd89-3fb4c8381a45"
   },
   "outputs": [],
   "source": [
    "from bs4 import BeautifulSoup\n",
    "import selenium\n",
    "import random\n",
    "from time import sleep\n",
    "import pandas as pd\n",
    "import logging \n",
    "from datetime import datetime\n",
    "import pickle\n",
    "import asyncio\n",
    "import aiohttp\n",
    "import nest_asyncio\n",
    "nest_asyncio.apply()"
   ]
  },
  {
   "cell_type": "code",
   "execution_count": 2,
   "metadata": {
    "cell_id": "372d4449-af15-4b6b-bd89-3fb4c8381a45"
   },
   "outputs": [],
   "source": [
    "logger = logging.getLogger()\n",
    "dstamp = datetime.now().strftime('%m_%d')\n",
    "fhandler = logging.FileHandler(filename= dstamp + 'session.log', mode='a')\n",
    "formatter = logging.Formatter('%(asctime)s - %(name)s - %(levelname)s - %(message)s')\n",
    "fhandler.setFormatter(formatter)\n",
    "logger.addHandler(fhandler)\n",
    "logger.setLevel(logging.DEBUG)"
   ]
  },
  {
   "cell_type": "markdown",
   "metadata": {},
   "source": [
    "#  Constants"
   ]
  },
  {
   "cell_type": "markdown",
   "metadata": {},
   "source": [
    "## To Add Semaphores"
   ]
  },
  {
   "cell_type": "markdown",
   "metadata": {},
   "source": [
    "##  Add try catch "
   ]
  },
  {
   "cell_type": "code",
   "execution_count": 3,
   "metadata": {},
   "outputs": [],
   "source": [
    "#needed so we won't be blocked\n",
    "headersff = {'User-Agent': 'Mozilla/5.0 (X11; Linux x86_64; rv:73.0) Gecko/20100101 Firefox/73.0'} "
   ]
  },
  {
   "cell_type": "code",
   "execution_count": 4,
   "metadata": {},
   "outputs": [],
   "source": [
    "async def crWriteContent(n, content):\n",
    "    filename = f'dl/async_{n}.html'\n",
    "    with open(filename,'wb') as f:\n",
    "        logging.info(f'Started writing to {filename}')\n",
    "        f.write(content)\n",
    "        logging.info(f'Finished writing to {filename}')"
   ]
  },
  {
   "cell_type": "code",
   "execution_count": 5,
   "metadata": {},
   "outputs": [],
   "source": [
    "async def crRequestUrl(url):\n",
    "    logging.info(f'Started downloading {url}')\n",
    "    async with aiohttp.ClientSession(headers = headersff) as session:\n",
    "        async with session.get(url) as resp:\n",
    "            #sleep(20*(random.random()))\n",
    "            waitTime = 3*(random.random())\n",
    "            await asyncio.sleep(waitTime)\n",
    "            content = await resp.read()\n",
    "            logging.info(f'Downloaded {url}')\n",
    "        return content \n"
   ]
  },
  {
   "cell_type": "code",
   "execution_count": 6,
   "metadata": {},
   "outputs": [],
   "source": [
    "# tasks order\n",
    "async def crtaskRequestAndWrite(n,url):\n",
    "    content = await crRequestUrl(url)\n",
    "    await  crWriteContent(n,content)"
   ]
  },
  {
   "cell_type": "code",
   "execution_count": 7,
   "metadata": {},
   "outputs": [],
   "source": [
    "#generation of task list, ie number of iter of the called taskTasks orders calls await functions \n",
    "async def crMain(urllist):\n",
    "    tasklist = []\n",
    "    for n, url in enumerate(urllist):\n",
    "        tasklist.append(crtaskRequestAndWrite(n,url))\n",
    "    await asyncio.wait(tasklist)"
   ]
  },
  {
   "cell_type": "code",
   "execution_count": 8,
   "metadata": {},
   "outputs": [],
   "source": [
    "#Main loop\n",
    "if __name__ == '__main__':\n",
    "    file = open('hotelUlrs.pickle','rb')\n",
    "    hotelUrls= pickle.load(file)\n",
    "    #needed so we won't be blocked\n",
    "    headers = {'User-Agent': 'Mozilla/5.0 (X11; Linux x86_64; rv:73.0) Gecko/20100101 Firefox/73.0'} \n",
    "    file.close()\n",
    "    loop = asyncio.get_event_loop()\n",
    "    loop.run_until_complete(crMain(hotelUrls))\n",
    "    "
   ]
  },
  {
   "cell_type": "code",
   "execution_count": null,
   "metadata": {},
   "outputs": [],
   "source": []
  }
 ],
 "metadata": {
  "deepnote_execution_queue": [],
  "deepnote_notebook_id": "c3cf0f1c-2651-4669-ad10-e12070b66ed6",
  "kernelspec": {
   "display_name": "Python 3",
   "language": "python",
   "name": "python3"
  },
  "language_info": {
   "codemirror_mode": {
    "name": "ipython",
    "version": 3
   },
   "file_extension": ".py",
   "mimetype": "text/x-python",
   "name": "python",
   "nbconvert_exporter": "python",
   "pygments_lexer": "ipython3",
   "version": "3.8.2"
  },
  "toc": {
   "base_numbering": 1,
   "nav_menu": {},
   "number_sections": true,
   "sideBar": false,
   "skip_h1_title": false,
   "title_cell": "Table of Contents",
   "title_sidebar": "Contents",
   "toc_cell": false,
   "toc_position": {
    "height": "47.95px",
    "left": "1875px",
    "top": "194px",
    "width": "160.3px"
   },
   "toc_section_display": false,
   "toc_window_display": true
  }
 },
 "nbformat": 4,
 "nbformat_minor": 4
}
