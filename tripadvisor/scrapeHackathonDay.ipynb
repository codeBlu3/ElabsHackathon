{
 "cells": [
  {
   "cell_type": "code",
   "execution_count": 1,
   "metadata": {
    "cell_id": "372d4449-af15-4b6b-bd89-3fb4c8381a45"
   },
   "outputs": [],
   "source": [
    "from bs4 import BeautifulSoup\n",
    "import requests\n",
    "import selenium\n",
    "import random\n",
    "from time import sleep\n",
    "import pandas as pd\n",
    "import logging \n",
    "logger = logging.getLogger()\n",
    "fhandler = logging.FileHandler(filename='hday_session.log', mode='a')\n",
    "formatter = logging.Formatter('%(asctime)s - %(name)s - %(levelname)s - %(message)s')\n",
    "fhandler.setFormatter(formatter)\n",
    "logger.addHandler(fhandler)\n",
    "logger.setLevel(logging.DEBUG)\n",
    "from datetime import datetime\n",
    "import pickle"
   ]
  },
  {
   "cell_type": "code",
   "execution_count": 2,
   "metadata": {},
   "outputs": [],
   "source": [
    "pd.set_option('display.max_rows', 1000)"
   ]
  },
  {
   "cell_type": "markdown",
   "metadata": {
    "cell_id": "a732ea0a-ff8a-4457-94a1-2f3127ff79fb"
   },
   "source": [
    "#  Constants"
   ]
  },
  {
   "cell_type": "code",
   "execution_count": 3,
   "metadata": {
    "cell_id": "4272db98-c0d6-4bbd-9eb4-63fbfa0d73ae"
   },
   "outputs": [],
   "source": [
    "baseurl = 'https://www.tripadvisor.com.ph'"
   ]
  },
  {
   "cell_type": "code",
   "execution_count": 4,
   "metadata": {
    "cell_id": "23b81d5e-bdde-4471-b03d-bd84c2b3eec7"
   },
   "outputs": [],
   "source": [
    "headers = {'User-Agent': 'Mozilla/5.0 (X11; Linux x86_64; rv:73.0) Gecko/20100101 Firefox/73.0'} "
   ]
  },
  {
   "cell_type": "code",
   "execution_count": 5,
   "metadata": {
    "cell_id": "6526e880-8b08-44c9-9e8d-0be252dfa62d"
   },
   "outputs": [],
   "source": [
    "def urlToBs(url, headers):\n",
    "    sleep(random.uniform(0,0.5))\n",
    "    pg = requests.get(url, headers)\n",
    "    sleep(1)\n",
    "    bs = BeautifulSoup(pg.content, 'html.parser')\n",
    "    return bs"
   ]
  },
  {
   "cell_type": "markdown",
   "metadata": {
    "cell_id": "f58e4c2c-73d5-421a-9d4b-980bd682976c"
   },
   "source": [
    "## Workflow\n",
    "1. loop from 1- 600\n",
    "    get urls \n",
    "2. loop on urls\n",
    "    get individual data"
   ]
  },
  {
   "cell_type": "markdown",
   "metadata": {
    "cell_id": "e6d275f9-c422-4e10-b5fd-5c176644f2a6"
   },
   "source": [
    "##  Pages Urls"
   ]
  },
  {
   "cell_type": "code",
   "execution_count": 6,
   "metadata": {
    "cell_id": "3d91fa79-0f84-4ac5-b896-aab188bab96f"
   },
   "outputs": [],
   "source": [
    "def sp_to_lturl(bsPage):\n",
    "    return [a.find(\"a\")['href'] for a in bsPage.find_all(\"div\", {'class':\"listing_title\"})] "
   ]
  },
  {
   "cell_type": "code",
   "execution_count": 7,
   "metadata": {
    "cell_id": "686dc19b-c339-40a0-9849-a89ef605e041"
   },
   "outputs": [],
   "source": [
    "pageUrls = []\n",
    "for i in range(21):\n",
    "    if i  == 0:\n",
    "        url = baseurl + '/Hotels-g294260-Boracay_Malay_Aklan_Province_Panay_Island_Visayas-Hotels.html#BODYCON'\n",
    "    else:\n",
    "        url = baseurl +  '/Hotels-g294260-oa' + str(i*30) + '-Boracay_Malay_Aklan_Province_Panay_Island_Visayas-Hotels.html#BODYCON'\n",
    "    pageUrls.append(url)"
   ]
  },
  {
   "cell_type": "code",
   "execution_count": 8,
   "metadata": {},
   "outputs": [
    {
     "data": {
      "text/plain": [
       "'https://www.tripadvisor.com.ph/Hotels-g294260-Boracay_Malay_Aklan_Province_Panay_Island_Visayas-Hotels.html#BODYCON'"
      ]
     },
     "execution_count": 8,
     "metadata": {},
     "output_type": "execute_result"
    }
   ],
   "source": [
    "pageUrls[0]"
   ]
  },
  {
   "cell_type": "code",
   "execution_count": 9,
   "metadata": {
    "cell_id": "4caad93a-36dc-48d1-b04a-341a0ea94361"
   },
   "outputs": [],
   "source": [
    "hturllt = []\n",
    "for purls in pageUrls:\n",
    "    logger.info(purls)\n",
    "    bsPage = urlToBs(purls, headers)\n",
    "    hturllt += sp_to_lturl(bsPage) "
   ]
  },
  {
   "cell_type": "code",
   "execution_count": 10,
   "metadata": {
    "cell_id": "4d04d2c4-6494-4b07-aaef-8eb7b401c17d"
   },
   "outputs": [
    {
     "data": {
      "text/plain": [
       "586"
      ]
     },
     "execution_count": 10,
     "metadata": {},
     "output_type": "execute_result"
    }
   ],
   "source": [
    "len(hturllt)"
   ]
  },
  {
   "cell_type": "code",
   "execution_count": 11,
   "metadata": {
    "cell_id": "33b5a99b-0c89-4635-b71c-c2a88127937a"
   },
   "outputs": [],
   "source": [
    "hotelUrls =  [baseurl+str(url) for url in hturllt]"
   ]
  },
  {
   "cell_type": "markdown",
   "metadata": {
    "cell_id": "32d7cae5-a394-46c2-a90a-d40333fd2b4c"
   },
   "source": [
    "##  Hotel Details "
   ]
  },
  {
   "cell_type": "markdown",
   "metadata": {
    "cell_id": "b28cb44f-6499-44cc-9d26-950d926af0be"
   },
   "source": [
    "1. ratings, ok\n",
    "2. number of amenities offered by hotels - ok\n",
    "3. number of reviews per hotel - ok\n",
    "4. hotel price - ok\n",
    "5. feedback from guests - another loop (eto ba yung text)\n",
    "6. hotel class (3-star, 4-star, 5-star) - ok\n",
    "7. room features -  ok \n",
    "8. number of nearby restaurants -ok\n",
    "9. number of nearby attractions - ok\n",
    "10. hotel location - ??"
   ]
  },
  {
   "cell_type": "markdown",
   "metadata": {
    "cell_id": "3e27e1e6-f418-472c-9f99-59a79a4178ce"
   },
   "source": [
    "###  Scratch pad"
   ]
  },
  {
   "cell_type": "code",
   "execution_count": 11,
   "metadata": {
    "cell_id": "a7b514d2-6a34-4dda-a612-8029e492f496"
   },
   "outputs": [],
   "source": [
    "def bsclass_text(bs,clstr):\n",
    "    return bs.find(class_ = clstr).get_text() "
   ]
  },
  {
   "cell_type": "code",
   "execution_count": 12,
   "metadata": {
    "cell_id": "bb8fe320-595f-4ca2-b900-de20d2e12471"
   },
   "outputs": [],
   "source": [
    "def getprice(bsHotel):\n",
    "    if bsHotel.find(class_ = 'hotels-hotel-offers-DetailChevronOffer__price--py2LH'):\n",
    "        price = bsHotel.find(\n",
    "            class_ = 'hotels-hotel-offers-DetailChevronOffer__price--py2LH').get_text()\n",
    "    elif bsHotel.find(class_ = 'hotels-hotel-offers-DominantOffer__price--D-ycN'):\n",
    "        price = bsHotel.find(\n",
    "            class_ = 'hotels-hotel-offers-DominantOffer__price--D-ycN').get_text()\n",
    "    else:\n",
    "        price = ''\n",
    "    return price "
   ]
  },
  {
   "cell_type": "code",
   "execution_count": 13,
   "metadata": {
    "cell_id": "33f0ff56-46ee-4be7-a74a-c503bd848d56"
   },
   "outputs": [],
   "source": [
    "def getAllReviews(bsHotel):\n",
    "    ltord = [a.get_text() for a in bsHotel.find_all(class_ = 'location-review-review-list-parts-ReviewRatingFilter__row_num--3cSP7')]\n",
    "    if len(ltord) == 0:\n",
    "        ltord = ['','','','','']\n",
    "    return tuple(ltord)"
   ]
  },
  {
   "cell_type": "code",
   "execution_count": 14,
   "metadata": {
    "cell_id": "8978e65a-31ee-4836-9813-8e4557f9e157",
    "tags": []
   },
   "outputs": [],
   "source": [
    "def getHotelclass(bsHotel):\n",
    "    if bsHotel.find(class_ = '_2MgVjxWG'):\n",
    "        hClass = 2\n",
    "    elif bsHotel.find(class_ = '_3RprXHxE'):\n",
    "        hClass = 3\n",
    "    elif bsHotel.find(class_ = '_30WZSV_9'):\n",
    "        hClass = 4\n",
    "    elif bsHotel.find(class_ = '_2LYcDtDf'):\n",
    "        hClass = 4.5\n",
    "    elif bsHotel.find(class_ = 'f33bWmtw'):\n",
    "        hClass = 5 \n",
    "    else:\n",
    "        hClass = 0\n",
    "    return hClass"
   ]
  },
  {
   "cell_type": "code",
   "execution_count": 15,
   "metadata": {},
   "outputs": [],
   "source": [
    "def getNearby(bsHotel):\n",
    "    if bsHotel.find(class_ = 'hotels-hotel-review-location-layout-Highlight__orange--1N-BP'):\n",
    "        nearbyResto = bsHotel.find(\n",
    "        class_ = 'hotels-hotel-review-location-layout-Highlight__orange--1N-BP').get_text()\n",
    "    else:\n",
    "        nearbyResto  = ''\n",
    "    if bsHotel.find(class_ = 'hotels-hotel-review-location-layout-Highlight__blue--2qc3K'):\n",
    "        nearbyAttractions = bsHotel.find(\n",
    "        class_ = 'hotels-hotel-review-location-layout-Highlight__blue--2qc3K').get_text()\n",
    "    else:\n",
    "        nearbyAttractions = ''\n",
    "    return  nearbyResto, nearbyAttractions"
   ]
  },
  {
   "cell_type": "code",
   "execution_count": 16,
   "metadata": {},
   "outputs": [],
   "source": [
    "def getRating(bsHotel):\n",
    "    if bsHotel.find(class_ = 'hotels-hotel-review-about-with-photos-Reviews__overallRating--vElGA'):\n",
    "        rating = bsHotel.find(\n",
    "        class_ = 'hotels-hotel-review-about-with-photos-Reviews__overallRating--vElGA').get_text()\n",
    "    else:\n",
    "        rating  = ''\n",
    "    return rating"
   ]
  },
  {
   "cell_type": "code",
   "execution_count": 17,
   "metadata": {},
   "outputs": [],
   "source": [
    "def getTotalRev(bsHotel):\n",
    "    if bsHotel.find(class_ = 'hotels-community-content-common-TabAboveHeader__tabCount--26Tct'):\n",
    "        totalRev = bsHotel.find(\n",
    "        class_ = 'hotels-community-content-common-TabAboveHeader__tabCount--26Tct').get_text()\n",
    "    else:\n",
    "        totalRev  = ''\n",
    "    return totalRev"
   ]
  },
  {
   "cell_type": "code",
   "execution_count": 18,
   "metadata": {
    "cell_id": "91f56e63-b998-4421-b93f-94563364c26e"
   },
   "outputs": [],
   "source": [
    "def getHotelDetails(bsHotel):\n",
    "    title =  bsHotel.find(id='HEADING').get_text()\n",
    "    price = getprice(bsHotel)\n",
    "    hotelClass = getHotelclass(bsHotel)\n",
    "    rating = getRating(bsHotel)\n",
    "    totalRev = getTotalRev(bsHotel)\n",
    "    excRev, vgRev, aveRev, poorRev, terRev =  getAllReviews(bsHotel)\n",
    "    nearbyResto, nearbyAttractions = getNearby(bsHotel)\n",
    "        \n",
    "    return {'title': title\n",
    "            , 'price': price\n",
    "            , 'hotelClass': hotelClass\n",
    "            , 'rating' : rating\n",
    "            , 'totalRev': totalRev\n",
    "            , 'excellentRev':excRev\n",
    "            , 'verygoodRev':vgRev\n",
    "            , 'averageRev':aveRev\n",
    "            , 'poorRev':poorRev\n",
    "            , 'terribleRev':terRev\n",
    "            , 'nearbyRestaurant':nearbyResto\n",
    "            , 'nearbyAttractions':nearbyAttractions\n",
    "           }"
   ]
  },
  {
   "cell_type": "markdown",
   "metadata": {
    "cell_id": "48f22a71-36b3-446f-a592-176372206117"
   },
   "source": [
    "## Individual Data looper"
   ]
  },
  {
   "cell_type": "code",
   "execution_count": 19,
   "metadata": {
    "cell_id": "7a6863e5-c40d-472e-9559-f215ef7be36f"
   },
   "outputs": [],
   "source": [
    "detailslt  = []\n",
    "i = 0\n",
    "for hurl in hotelUrls:\n",
    "    i += 1\n",
    "    logger.info(i)\n",
    "    logger.info(hurl)\n",
    "    bsHotel = urlToBs(hurl, headers)\n",
    "    detailslt.append(getHotelDetails(bsHotel))"
   ]
  },
  {
   "cell_type": "code",
   "execution_count": 20,
   "metadata": {
    "cell_id": "7a6863e5-c40d-472e-9559-f215ef7be36f"
   },
   "outputs": [],
   "source": [
    "i = 322\n",
    "for hurl in hotelUrls[322:]:\n",
    "    i += 1\n",
    "    logger.info(i)\n",
    "    logger.info(hurl)\n",
    "    bsHotel = urlToBs(hurl, headers)\n",
    "    detailslt.append(getHotelDetails(bsHotel))"
   ]
  },
  {
   "cell_type": "code",
   "execution_count": 21,
   "metadata": {},
   "outputs": [
    {
     "data": {
      "text/plain": [
       "902"
      ]
     },
     "execution_count": 21,
     "metadata": {},
     "output_type": "execute_result"
    }
   ],
   "source": [
    "len(detailslt)"
   ]
  },
  {
   "cell_type": "code",
   "execution_count": 22,
   "metadata": {},
   "outputs": [
    {
     "data": {
      "text/plain": [
       "{'title': \"Evelyn's Place\",\n",
       " 'price': '',\n",
       " 'hotelClass': 2,\n",
       " 'rating': '',\n",
       " 'totalRev': '',\n",
       " 'excellentRev': '',\n",
       " 'verygoodRev': '',\n",
       " 'averageRev': '',\n",
       " 'poorRev': '',\n",
       " 'terribleRev': '',\n",
       " 'nearbyRestaurant': '16',\n",
       " 'nearbyAttractions': '6'}"
      ]
     },
     "execution_count": 22,
     "metadata": {},
     "output_type": "execute_result"
    }
   ],
   "source": [
    "detailslt[-1]"
   ]
  },
  {
   "cell_type": "code",
   "execution_count": 23,
   "metadata": {},
   "outputs": [
    {
     "data": {
      "text/plain": [
       "'https://www.tripadvisor.com.ph/Hotel_Review-g294260-d1201916-Reviews-Ocean_Breeze_Inn_Boracay-Boracay_Malay_Aklan_Province_Panay_Island_Visayas.html'"
      ]
     },
     "execution_count": 23,
     "metadata": {},
     "output_type": "execute_result"
    }
   ],
   "source": [
    "hotelUrls[322]"
   ]
  },
  {
   "cell_type": "code",
   "execution_count": 24,
   "metadata": {},
   "outputs": [
    {
     "data": {
      "text/plain": [
       "902"
      ]
     },
     "execution_count": 24,
     "metadata": {},
     "output_type": "execute_result"
    }
   ],
   "source": [
    "len(detailslt)"
   ]
  },
  {
   "cell_type": "code",
   "execution_count": 25,
   "metadata": {
    "cell_id": "816ec7a4-ac65-49f3-8379-9be690a4a7f2"
   },
   "outputs": [],
   "source": [
    "bsdf  = pd.DataFrame(detailslt)"
   ]
  },
  {
   "cell_type": "code",
   "execution_count": 43,
   "metadata": {},
   "outputs": [
    {
     "data": {
      "text/html": [
       "<div>\n",
       "<style scoped>\n",
       "    .dataframe tbody tr th:only-of-type {\n",
       "        vertical-align: middle;\n",
       "    }\n",
       "\n",
       "    .dataframe tbody tr th {\n",
       "        vertical-align: top;\n",
       "    }\n",
       "\n",
       "    .dataframe thead th {\n",
       "        text-align: right;\n",
       "    }\n",
       "</style>\n",
       "<table border=\"1\" class=\"dataframe\">\n",
       "  <thead>\n",
       "    <tr style=\"text-align: right;\">\n",
       "      <th></th>\n",
       "      <th>title</th>\n",
       "      <th>price</th>\n",
       "      <th>hotelClass</th>\n",
       "      <th>rating</th>\n",
       "      <th>totalRev</th>\n",
       "      <th>excellentRev</th>\n",
       "      <th>verygoodRev</th>\n",
       "      <th>averageRev</th>\n",
       "      <th>poorRev</th>\n",
       "      <th>terribleRev</th>\n",
       "      <th>nearbyRestaurant</th>\n",
       "      <th>nearbyAttractions</th>\n",
       "    </tr>\n",
       "  </thead>\n",
       "  <tbody>\n",
       "    <tr>\n",
       "      <th>0</th>\n",
       "      <td>Calypso Beach &amp; Dive Resort</td>\n",
       "      <td>₱2,711</td>\n",
       "      <td>3.0</td>\n",
       "      <td>4.5</td>\n",
       "      <td>107</td>\n",
       "      <td>66</td>\n",
       "      <td>24</td>\n",
       "      <td>8</td>\n",
       "      <td>5</td>\n",
       "      <td>4</td>\n",
       "      <td>50</td>\n",
       "      <td>5</td>\n",
       "    </tr>\n",
       "    <tr>\n",
       "      <th>1</th>\n",
       "      <td>Henann Palm Beach Resort</td>\n",
       "      <td>₱5,893</td>\n",
       "      <td>3.0</td>\n",
       "      <td>4.5</td>\n",
       "      <td>273</td>\n",
       "      <td>224</td>\n",
       "      <td>26</td>\n",
       "      <td>10</td>\n",
       "      <td>5</td>\n",
       "      <td>8</td>\n",
       "      <td>53</td>\n",
       "      <td>5</td>\n",
       "    </tr>\n",
       "    <tr>\n",
       "      <th>2</th>\n",
       "      <td>Henann Lagoon Resort</td>\n",
       "      <td>₱3,395</td>\n",
       "      <td>4.5</td>\n",
       "      <td>4.5</td>\n",
       "      <td>832</td>\n",
       "      <td>516</td>\n",
       "      <td>231</td>\n",
       "      <td>55</td>\n",
       "      <td>12</td>\n",
       "      <td>18</td>\n",
       "      <td>47</td>\n",
       "      <td>6</td>\n",
       "    </tr>\n",
       "    <tr>\n",
       "      <th>3</th>\n",
       "      <td>Fridays Boracay</td>\n",
       "      <td>₱18,810</td>\n",
       "      <td>4.0</td>\n",
       "      <td>4.0</td>\n",
       "      <td>672</td>\n",
       "      <td>349</td>\n",
       "      <td>195</td>\n",
       "      <td>58</td>\n",
       "      <td>39</td>\n",
       "      <td>31</td>\n",
       "      <td>56</td>\n",
       "      <td>10</td>\n",
       "    </tr>\n",
       "    <tr>\n",
       "      <th>4</th>\n",
       "      <td>Two Seasons Boracay Resort</td>\n",
       "      <td>₱5,666</td>\n",
       "      <td>4.0</td>\n",
       "      <td>4.0</td>\n",
       "      <td>614</td>\n",
       "      <td>280</td>\n",
       "      <td>234</td>\n",
       "      <td>71</td>\n",
       "      <td>9</td>\n",
       "      <td>20</td>\n",
       "      <td>24</td>\n",
       "      <td>5</td>\n",
       "    </tr>\n",
       "    <tr>\n",
       "      <th>...</th>\n",
       "      <td>...</td>\n",
       "      <td>...</td>\n",
       "      <td>...</td>\n",
       "      <td>...</td>\n",
       "      <td>...</td>\n",
       "      <td>...</td>\n",
       "      <td>...</td>\n",
       "      <td>...</td>\n",
       "      <td>...</td>\n",
       "      <td>...</td>\n",
       "      <td>...</td>\n",
       "      <td>...</td>\n",
       "    </tr>\n",
       "    <tr>\n",
       "      <th>595</th>\n",
       "      <td>Blue Pirates Resort by Boracay Travellers'</td>\n",
       "      <td></td>\n",
       "      <td>0.0</td>\n",
       "      <td></td>\n",
       "      <td></td>\n",
       "      <td></td>\n",
       "      <td></td>\n",
       "      <td></td>\n",
       "      <td></td>\n",
       "      <td></td>\n",
       "      <td>276</td>\n",
       "      <td>43</td>\n",
       "    </tr>\n",
       "    <tr>\n",
       "      <th>596</th>\n",
       "      <td>Calypso Beach Front Resort</td>\n",
       "      <td></td>\n",
       "      <td>3.0</td>\n",
       "      <td></td>\n",
       "      <td></td>\n",
       "      <td></td>\n",
       "      <td></td>\n",
       "      <td></td>\n",
       "      <td></td>\n",
       "      <td></td>\n",
       "      <td>276</td>\n",
       "      <td>43</td>\n",
       "    </tr>\n",
       "    <tr>\n",
       "      <th>597</th>\n",
       "      <td>Gumamela Resort</td>\n",
       "      <td></td>\n",
       "      <td>3.0</td>\n",
       "      <td></td>\n",
       "      <td></td>\n",
       "      <td></td>\n",
       "      <td></td>\n",
       "      <td></td>\n",
       "      <td></td>\n",
       "      <td></td>\n",
       "      <td>16</td>\n",
       "      <td>6</td>\n",
       "    </tr>\n",
       "    <tr>\n",
       "      <th>598</th>\n",
       "      <td>Kimberly Suites</td>\n",
       "      <td></td>\n",
       "      <td>3.0</td>\n",
       "      <td></td>\n",
       "      <td></td>\n",
       "      <td></td>\n",
       "      <td></td>\n",
       "      <td></td>\n",
       "      <td></td>\n",
       "      <td></td>\n",
       "      <td>28</td>\n",
       "      <td>4</td>\n",
       "    </tr>\n",
       "    <tr>\n",
       "      <th>599</th>\n",
       "      <td>Den Pasar Boracay</td>\n",
       "      <td></td>\n",
       "      <td>2.0</td>\n",
       "      <td></td>\n",
       "      <td></td>\n",
       "      <td></td>\n",
       "      <td></td>\n",
       "      <td></td>\n",
       "      <td></td>\n",
       "      <td></td>\n",
       "      <td></td>\n",
       "      <td></td>\n",
       "    </tr>\n",
       "  </tbody>\n",
       "</table>\n",
       "<p>600 rows × 12 columns</p>\n",
       "</div>"
      ],
      "text/plain": [
       "                                          title    price  hotelClass rating  \\\n",
       "0                   Calypso Beach & Dive Resort   ₱2,711         3.0    4.5   \n",
       "1                      Henann Palm Beach Resort   ₱5,893         3.0    4.5   \n",
       "2                          Henann Lagoon Resort   ₱3,395         4.5    4.5   \n",
       "3                               Fridays Boracay  ₱18,810         4.0    4.0   \n",
       "4                    Two Seasons Boracay Resort   ₱5,666         4.0    4.0   \n",
       "..                                          ...      ...         ...    ...   \n",
       "595  Blue Pirates Resort by Boracay Travellers'                  0.0          \n",
       "596                  Calypso Beach Front Resort                  3.0          \n",
       "597                             Gumamela Resort                  3.0          \n",
       "598                             Kimberly Suites                  3.0          \n",
       "599                           Den Pasar Boracay                  2.0          \n",
       "\n",
       "    totalRev excellentRev verygoodRev averageRev poorRev terribleRev  \\\n",
       "0        107           66          24          8       5           4   \n",
       "1        273          224          26         10       5           8   \n",
       "2        832          516         231         55      12          18   \n",
       "3        672          349         195         58      39          31   \n",
       "4        614          280         234         71       9          20   \n",
       "..       ...          ...         ...        ...     ...         ...   \n",
       "595                                                                    \n",
       "596                                                                    \n",
       "597                                                                    \n",
       "598                                                                    \n",
       "599                                                                    \n",
       "\n",
       "    nearbyRestaurant nearbyAttractions  \n",
       "0                 50                 5  \n",
       "1                 53                 5  \n",
       "2                 47                 6  \n",
       "3                 56                10  \n",
       "4                 24                 5  \n",
       "..               ...               ...  \n",
       "595              276                43  \n",
       "596              276                43  \n",
       "597               16                 6  \n",
       "598               28                 4  \n",
       "599                                     \n",
       "\n",
       "[600 rows x 12 columns]"
      ]
     },
     "execution_count": 43,
     "metadata": {},
     "output_type": "execute_result"
    }
   ],
   "source": [
    "bsdf.head(600)"
   ]
  },
  {
   "cell_type": "code",
   "execution_count": 27,
   "metadata": {},
   "outputs": [],
   "source": [
    "tsbsdf = datetime.now().strftime('%H_%M_%S')"
   ]
  },
  {
   "cell_type": "code",
   "execution_count": 28,
   "metadata": {},
   "outputs": [
    {
     "data": {
      "text/plain": [
       "'12_53_44'"
      ]
     },
     "execution_count": 28,
     "metadata": {},
     "output_type": "execute_result"
    }
   ],
   "source": [
    "tsbsdf"
   ]
  },
  {
   "cell_type": "raw",
   "metadata": {},
   "source": [
    "bsdf.to_csv(f'bsdf_{tsbsdf}.csv')"
   ]
  },
  {
   "cell_type": "code",
   "execution_count": 29,
   "metadata": {},
   "outputs": [],
   "source": [
    "bsdf.to_csv(f'bsdf_{tsbsdf}.csv')"
   ]
  },
  {
   "cell_type": "code",
   "execution_count": 36,
   "metadata": {},
   "outputs": [
    {
     "data": {
      "text/plain": [
       "902"
      ]
     },
     "execution_count": 36,
     "metadata": {},
     "output_type": "execute_result"
    }
   ],
   "source": [
    "len(bsdf)"
   ]
  },
  {
   "cell_type": "code",
   "execution_count": 38,
   "metadata": {},
   "outputs": [
    {
     "data": {
      "text/html": [
       "<div>\n",
       "<style scoped>\n",
       "    .dataframe tbody tr th:only-of-type {\n",
       "        vertical-align: middle;\n",
       "    }\n",
       "\n",
       "    .dataframe tbody tr th {\n",
       "        vertical-align: top;\n",
       "    }\n",
       "\n",
       "    .dataframe thead th {\n",
       "        text-align: right;\n",
       "    }\n",
       "</style>\n",
       "<table border=\"1\" class=\"dataframe\">\n",
       "  <thead>\n",
       "    <tr style=\"text-align: right;\">\n",
       "      <th></th>\n",
       "      <th>title</th>\n",
       "      <th>price</th>\n",
       "      <th>hotelClass</th>\n",
       "      <th>rating</th>\n",
       "      <th>totalRev</th>\n",
       "      <th>excellentRev</th>\n",
       "      <th>verygoodRev</th>\n",
       "      <th>averageRev</th>\n",
       "      <th>poorRev</th>\n",
       "      <th>terribleRev</th>\n",
       "      <th>nearbyRestaurant</th>\n",
       "      <th>nearbyAttractions</th>\n",
       "    </tr>\n",
       "  </thead>\n",
       "  <tbody>\n",
       "    <tr>\n",
       "      <th>0</th>\n",
       "      <td>Calypso Beach &amp; Dive Resort</td>\n",
       "      <td>₱2,711</td>\n",
       "      <td>3.0</td>\n",
       "      <td>4.5</td>\n",
       "      <td>107</td>\n",
       "      <td>66</td>\n",
       "      <td>24</td>\n",
       "      <td>8</td>\n",
       "      <td>5</td>\n",
       "      <td>4</td>\n",
       "      <td>50</td>\n",
       "      <td>5</td>\n",
       "    </tr>\n",
       "    <tr>\n",
       "      <th>1</th>\n",
       "      <td>Henann Palm Beach Resort</td>\n",
       "      <td>₱5,893</td>\n",
       "      <td>3.0</td>\n",
       "      <td>4.5</td>\n",
       "      <td>273</td>\n",
       "      <td>224</td>\n",
       "      <td>26</td>\n",
       "      <td>10</td>\n",
       "      <td>5</td>\n",
       "      <td>8</td>\n",
       "      <td>53</td>\n",
       "      <td>5</td>\n",
       "    </tr>\n",
       "    <tr>\n",
       "      <th>2</th>\n",
       "      <td>Henann Lagoon Resort</td>\n",
       "      <td>₱3,395</td>\n",
       "      <td>4.5</td>\n",
       "      <td>4.5</td>\n",
       "      <td>832</td>\n",
       "      <td>516</td>\n",
       "      <td>231</td>\n",
       "      <td>55</td>\n",
       "      <td>12</td>\n",
       "      <td>18</td>\n",
       "      <td>47</td>\n",
       "      <td>6</td>\n",
       "    </tr>\n",
       "    <tr>\n",
       "      <th>3</th>\n",
       "      <td>Fridays Boracay</td>\n",
       "      <td>₱18,810</td>\n",
       "      <td>4.0</td>\n",
       "      <td>4.0</td>\n",
       "      <td>672</td>\n",
       "      <td>349</td>\n",
       "      <td>195</td>\n",
       "      <td>58</td>\n",
       "      <td>39</td>\n",
       "      <td>31</td>\n",
       "      <td>56</td>\n",
       "      <td>10</td>\n",
       "    </tr>\n",
       "    <tr>\n",
       "      <th>4</th>\n",
       "      <td>Two Seasons Boracay Resort</td>\n",
       "      <td>₱5,666</td>\n",
       "      <td>4.0</td>\n",
       "      <td>4.0</td>\n",
       "      <td>614</td>\n",
       "      <td>280</td>\n",
       "      <td>234</td>\n",
       "      <td>71</td>\n",
       "      <td>9</td>\n",
       "      <td>20</td>\n",
       "      <td>24</td>\n",
       "      <td>5</td>\n",
       "    </tr>\n",
       "    <tr>\n",
       "      <th>...</th>\n",
       "      <td>...</td>\n",
       "      <td>...</td>\n",
       "      <td>...</td>\n",
       "      <td>...</td>\n",
       "      <td>...</td>\n",
       "      <td>...</td>\n",
       "      <td>...</td>\n",
       "      <td>...</td>\n",
       "      <td>...</td>\n",
       "      <td>...</td>\n",
       "      <td>...</td>\n",
       "      <td>...</td>\n",
       "    </tr>\n",
       "    <tr>\n",
       "      <th>897</th>\n",
       "      <td>Hotel Mari Annex</td>\n",
       "      <td></td>\n",
       "      <td>2.0</td>\n",
       "      <td></td>\n",
       "      <td></td>\n",
       "      <td></td>\n",
       "      <td></td>\n",
       "      <td></td>\n",
       "      <td></td>\n",
       "      <td></td>\n",
       "      <td>115</td>\n",
       "      <td>6</td>\n",
       "    </tr>\n",
       "    <tr>\n",
       "      <th>898</th>\n",
       "      <td>Wald's Place</td>\n",
       "      <td></td>\n",
       "      <td>2.0</td>\n",
       "      <td></td>\n",
       "      <td></td>\n",
       "      <td></td>\n",
       "      <td></td>\n",
       "      <td></td>\n",
       "      <td></td>\n",
       "      <td></td>\n",
       "      <td>36</td>\n",
       "      <td>3</td>\n",
       "    </tr>\n",
       "    <tr>\n",
       "      <th>899</th>\n",
       "      <td>El Dominador Guest House</td>\n",
       "      <td></td>\n",
       "      <td>2.0</td>\n",
       "      <td></td>\n",
       "      <td></td>\n",
       "      <td></td>\n",
       "      <td></td>\n",
       "      <td></td>\n",
       "      <td></td>\n",
       "      <td></td>\n",
       "      <td></td>\n",
       "      <td></td>\n",
       "    </tr>\n",
       "    <tr>\n",
       "      <th>900</th>\n",
       "      <td>Cliff House</td>\n",
       "      <td></td>\n",
       "      <td>2.0</td>\n",
       "      <td></td>\n",
       "      <td></td>\n",
       "      <td></td>\n",
       "      <td></td>\n",
       "      <td></td>\n",
       "      <td></td>\n",
       "      <td></td>\n",
       "      <td></td>\n",
       "      <td></td>\n",
       "    </tr>\n",
       "    <tr>\n",
       "      <th>901</th>\n",
       "      <td>Evelyn's Place</td>\n",
       "      <td></td>\n",
       "      <td>2.0</td>\n",
       "      <td></td>\n",
       "      <td></td>\n",
       "      <td></td>\n",
       "      <td></td>\n",
       "      <td></td>\n",
       "      <td></td>\n",
       "      <td></td>\n",
       "      <td>16</td>\n",
       "      <td>6</td>\n",
       "    </tr>\n",
       "  </tbody>\n",
       "</table>\n",
       "<p>902 rows × 12 columns</p>\n",
       "</div>"
      ],
      "text/plain": [
       "                           title    price  hotelClass rating totalRev  \\\n",
       "0    Calypso Beach & Dive Resort   ₱2,711         3.0    4.5      107   \n",
       "1       Henann Palm Beach Resort   ₱5,893         3.0    4.5      273   \n",
       "2           Henann Lagoon Resort   ₱3,395         4.5    4.5      832   \n",
       "3                Fridays Boracay  ₱18,810         4.0    4.0      672   \n",
       "4     Two Seasons Boracay Resort   ₱5,666         4.0    4.0      614   \n",
       "..                           ...      ...         ...    ...      ...   \n",
       "897             Hotel Mari Annex                  2.0                   \n",
       "898                 Wald's Place                  2.0                   \n",
       "899     El Dominador Guest House                  2.0                   \n",
       "900                  Cliff House                  2.0                   \n",
       "901               Evelyn's Place                  2.0                   \n",
       "\n",
       "    excellentRev verygoodRev averageRev poorRev terribleRev nearbyRestaurant  \\\n",
       "0             66          24          8       5           4               50   \n",
       "1            224          26         10       5           8               53   \n",
       "2            516         231         55      12          18               47   \n",
       "3            349         195         58      39          31               56   \n",
       "4            280         234         71       9          20               24   \n",
       "..           ...         ...        ...     ...         ...              ...   \n",
       "897                                                                      115   \n",
       "898                                                                       36   \n",
       "899                                                                            \n",
       "900                                                                            \n",
       "901                                                                       16   \n",
       "\n",
       "    nearbyAttractions  \n",
       "0                   5  \n",
       "1                   5  \n",
       "2                   6  \n",
       "3                  10  \n",
       "4                   5  \n",
       "..                ...  \n",
       "897                 6  \n",
       "898                 3  \n",
       "899                    \n",
       "900                    \n",
       "901                 6  \n",
       "\n",
       "[902 rows x 12 columns]"
      ]
     },
     "execution_count": 38,
     "metadata": {},
     "output_type": "execute_result"
    }
   ],
   "source": [
    "bsdf"
   ]
  },
  {
   "cell_type": "markdown",
   "metadata": {
    "cell_id": "534d32b0-40ab-4c81-a53e-a2b632195700"
   },
   "source": [
    "##  Some parts are note accessible via beautiful soup, selenium is a must"
   ]
  },
  {
   "cell_type": "code",
   "execution_count": 12,
   "metadata": {
    "cell_id": "537785c9-3400-4595-b07c-6184120e269c"
   },
   "outputs": [],
   "source": [
    "from selenium import webdriver\n",
    "from selenium.webdriver import Firefox\n",
    "from selenium.webdriver.firefox.options import Options "
   ]
  },
  {
   "cell_type": "code",
   "execution_count": 13,
   "metadata": {
    "cell_id": "33450b00-a7ae-4cf5-9840-126e4e263ee4"
   },
   "outputs": [],
   "source": [
    "opts = Options()\n",
    "opts.headless = True\n",
    "brow = Firefox(options = opts)"
   ]
  },
  {
   "cell_type": "code",
   "execution_count": 14,
   "metadata": {
    "cell_id": "06d107b8-3118-47fa-be53-649cc6270252"
   },
   "outputs": [],
   "source": [
    "def getAmenitiesandFeatures(selbrow):\n",
    "    try:\n",
    "        #click show more\n",
    "        selbrow.find_elements_by_class_name(\n",
    "            'hotels-hr-about-amenities-AmenityGroup__showMore--pPz2S')[0].click()\n",
    "        sleep(random.uniform(0,0.5))\n",
    "        #click property amenities\n",
    "        selbrow.find_elements_by_class_name(\n",
    "            'hotels-hr-about-amenities-AmenitiesModal__tabContainer--F67_I')[0].click()\n",
    "        sleep(random.uniform(0,0.5))\n",
    "        ltAmen =  [i.text for i in selbrow.find_elements_by_class_name('hotels-hr-about-amenities-Amenity__amenity--3fbBj')\n",
    "                  if i.text != '']\n",
    "        selbrow.find_elements_by_class_name(\n",
    "        'hotels-hr-about-amenities-AmenitiesModal__tabContainer--F67_I')[1].click()\n",
    "        sleep(random.uniform(0,0.5))\n",
    "        ltfeatures =  [i.text for i in selbrow.find_elements_by_class_name('hotels-hr-about-amenities-Amenity__amenity--3fbBj')\n",
    "                      if i.text != '']\n",
    "        selbrow.find_elements_by_class_name('_2EFRp_bb')[0].click()\n",
    "        ltAmen = list(set(ltAmen))\n",
    "        ltfeatures = list(set(ltfeatures))\n",
    "    except:\n",
    "        logger.error(\"Selenium Error\")\n",
    "        ltAmen = []\n",
    "        ltfeatures = []\n",
    "    return ltAmen, ltfeatures  "
   ]
  },
  {
   "cell_type": "code",
   "execution_count": 15,
   "metadata": {
    "cell_id": "11fac992-a236-4ca4-9e32-987f46f5fbf1"
   },
   "outputs": [],
   "source": [
    "def getDetailsfromSel(selbrow):\n",
    "    title =  selbrow.find_element_by_id('HEADING').text\n",
    "    amenitieslt, roomfeatureslt  = getAmenitiesandFeatures(selbrow)\n",
    "    return {'title': title\n",
    "            , 'amenities': amenitieslt\n",
    "            , 'roomfeatures': roomfeatureslt\n",
    "           }\n",
    "        "
   ]
  },
  {
   "cell_type": "code",
   "execution_count": null,
   "metadata": {
    "cell_id": "a01b15c8-df25-45aa-a1d0-371503a1ed1b"
   },
   "outputs": [],
   "source": [
    "selhoteldetslt = []\n",
    "i = 0\n",
    "for url in hotelUrls:\n",
    "    i += 1\n",
    "    logger.info(i)\n",
    "    logger.info(url)\n",
    "    sleep(random.uniform(0,0.5))\n",
    "    brow.get(url)\n",
    "    sleep(1)\n",
    "    selhoteldetslt.append(getDetailsfromSel(brow))\n",
    "    "
   ]
  },
  {
   "cell_type": "code",
   "execution_count": null,
   "metadata": {
    "cell_id": "a01b15c8-df25-45aa-a1d0-371503a1ed1b"
   },
   "outputs": [],
   "source": [
    "i = 56\n",
    "for url in hotelUrls[56:]:\n",
    "    i += 1\n",
    "    logger.info(i)\n",
    "    logger.info(url)\n",
    "    sleep(random.uniform(3,4))\n",
    "    brow.get(url)\n",
    "    selhoteldetslt.append(getDetailsfromSel(brow))\n",
    "    "
   ]
  },
  {
   "cell_type": "code",
   "execution_count": null,
   "metadata": {},
   "outputs": [],
   "source": [
    "len(selhoteldetslt)"
   ]
  },
  {
   "cell_type": "code",
   "execution_count": null,
   "metadata": {
    "cell_id": "b58526b0-20b3-474a-8de5-26ed824b32ae"
   },
   "outputs": [],
   "source": [
    "seldf = pd.DataFrame(selhoteldetslt)"
   ]
  },
  {
   "cell_type": "code",
   "execution_count": null,
   "metadata": {
    "cell_id": "b8a73aff-8c51-4a81-b4ae-bff8c1e5d782"
   },
   "outputs": [],
   "source": [
    "df = bsdf.merge(seldf, on = 'title')"
   ]
  },
  {
   "cell_type": "code",
   "execution_count": null,
   "metadata": {},
   "outputs": [],
   "source": [
    "tsdf = datetime.now().strftime('%H_%M_%S')"
   ]
  },
  {
   "cell_type": "code",
   "execution_count": null,
   "metadata": {
    "cell_id": "13ac4269-9cf5-46f7-bd08-ced1ed4b6d8b"
   },
   "outputs": [],
   "source": [
    "df.to_csv(f'df_{tsdf}.csv')"
   ]
  },
  {
   "cell_type": "code",
   "execution_count": null,
   "metadata": {},
   "outputs": [],
   "source": []
  },
  {
   "cell_type": "code",
   "execution_count": null,
   "metadata": {},
   "outputs": [],
   "source": []
  }
 ],
 "metadata": {
  "deepnote_execution_queue": [],
  "deepnote_notebook_id": "c3cf0f1c-2651-4669-ad10-e12070b66ed6",
  "kernelspec": {
   "display_name": "Python 3",
   "language": "python",
   "name": "python3"
  },
  "language_info": {
   "codemirror_mode": {
    "name": "ipython",
    "version": 3
   },
   "file_extension": ".py",
   "mimetype": "text/x-python",
   "name": "python",
   "nbconvert_exporter": "python",
   "pygments_lexer": "ipython3",
   "version": "3.8.2"
  },
  "toc": {
   "base_numbering": 1,
   "nav_menu": {},
   "number_sections": true,
   "sideBar": false,
   "skip_h1_title": false,
   "title_cell": "Table of Contents",
   "title_sidebar": "Contents",
   "toc_cell": false,
   "toc_position": {
    "height": "47.95px",
    "left": "1875px",
    "top": "194px",
    "width": "160.3px"
   },
   "toc_section_display": false,
   "toc_window_display": true
  }
 },
 "nbformat": 4,
 "nbformat_minor": 4
}
